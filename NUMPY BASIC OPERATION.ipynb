{
 "cells": [
  {
   "cell_type": "code",
   "execution_count": 1,
   "metadata": {},
   "outputs": [],
   "source": [
    "# APPEND,INSERT AND DELETE OPERATION"
   ]
  },
  {
   "cell_type": "code",
   "execution_count": 2,
   "metadata": {},
   "outputs": [],
   "source": [
    "import numpy as np"
   ]
  },
  {
   "cell_type": "code",
   "execution_count": 10,
   "metadata": {},
   "outputs": [
    {
     "data": {
      "text/plain": [
       "array([[1, 2, 3, 5],\n",
       "       [4, 5, 6, 8]])"
      ]
     },
     "execution_count": 10,
     "metadata": {},
     "output_type": "execute_result"
    }
   ],
   "source": [
    "a=np.array([[1,2,3],[4,5,6]])\n",
    "# append method\n",
    "np.append(a,[7,8,9])\n",
    "np.append(a,[[7,8,9]],axis=0) # axis=0 means row\n",
    "np.append(a,[[5],[8]],axis=1) # axis=1 means col"
   ]
  },
  {
   "cell_type": "code",
   "execution_count": 24,
   "metadata": {},
   "outputs": [
    {
     "name": "stdout",
     "output_type": "stream",
     "text": [
      "[[1 2]\n",
      " [3 4]\n",
      " [5 6]]\n"
     ]
    },
    {
     "data": {
      "text/plain": [
       "array([[ 1,  2, 15],\n",
       "       [ 3,  4, 16],\n",
       "       [ 5,  6, 17]])"
      ]
     },
     "execution_count": 24,
     "metadata": {},
     "output_type": "execute_result"
    }
   ],
   "source": [
    "a=np.array([[1,2],[3,4],[5,6]])\n",
    "print(a)\n",
    "# insert method\n",
    "np.insert(a,3,[11,12])\n",
    "np.insert(a,1,[13,14],axis=0)\n",
    "np.insert(a,2,[[15,16,17]],axis=1)"
   ]
  },
  {
   "cell_type": "code",
   "execution_count": 31,
   "metadata": {},
   "outputs": [
    {
     "name": "stdout",
     "output_type": "stream",
     "text": [
      "[[1 2 3]\n",
      " [4 5 6]\n",
      " [7 8 9]]\n"
     ]
    },
    {
     "data": {
      "text/plain": [
       "array([[1, 2],\n",
       "       [4, 5],\n",
       "       [7, 8]])"
      ]
     },
     "execution_count": 31,
     "metadata": {},
     "output_type": "execute_result"
    }
   ],
   "source": [
    "a=np.array([[1,2,3],[4,5,6],[7,8,9]])\n",
    "print(a)\n",
    "# delete method\n",
    "np.delete(a,5) # delete 5 th index element\n",
    "np.delete(a,1,axis=0)\n",
    "np.delete(a,2,axis=1)"
   ]
  },
  {
   "cell_type": "code",
   "execution_count": 32,
   "metadata": {},
   "outputs": [],
   "source": [
    "# NUMPY CONCATENATION\n",
    "\n",
    "# It is used to joined two or more array of same shape along a specified axis\n",
    "# Axis=0 Adding new row\n",
    "# Axis=1 Adding new column\n"
   ]
  },
  {
   "cell_type": "code",
   "execution_count": 42,
   "metadata": {},
   "outputs": [
    {
     "name": "stdout",
     "output_type": "stream",
     "text": [
      "[[2 4]\n",
      " [5 6]]\n",
      "[[ 7  8]\n",
      " [ 9 10]]\n",
      "[[ 2  4]\n",
      " [ 5  6]\n",
      " [ 7  8]\n",
      " [ 9 10]]\n",
      "[[ 2  4  7  8]\n",
      " [ 5  6  9 10]]\n"
     ]
    }
   ],
   "source": [
    "arr1=np.array([[2,4],[5,6]])\n",
    "print(arr1)\n",
    "arr2=np.array([[7,8],[9,10]])\n",
    "print(arr2)\n",
    "new=np.concatenate((arr1,arr2),axis=0)\n",
    "print(new)\n",
    "new=np.concatenate((arr1,arr2),axis=1)\n",
    "print(new)\n"
   ]
  },
  {
   "cell_type": "code",
   "execution_count": null,
   "metadata": {},
   "outputs": [],
   "source": []
  }
 ],
 "metadata": {
  "kernelspec": {
   "display_name": "Python 3",
   "language": "python",
   "name": "python3"
  },
  "language_info": {
   "codemirror_mode": {
    "name": "ipython",
    "version": 3
   },
   "file_extension": ".py",
   "mimetype": "text/x-python",
   "name": "python",
   "nbconvert_exporter": "python",
   "pygments_lexer": "ipython3",
   "version": "3.11.3"
  }
 },
 "nbformat": 4,
 "nbformat_minor": 2
}
