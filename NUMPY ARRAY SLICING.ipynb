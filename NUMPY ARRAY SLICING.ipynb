{
 "cells": [
  {
   "cell_type": "code",
   "execution_count": 3,
   "metadata": {},
   "outputs": [],
   "source": [
    "# NUMPY ARRAY SLICING\n",
    "# Slicing in python means taking element from one givenindex to another index\n",
    "# we pass slice instead of index like this:[start:end]\n",
    "# We can also define the step like this [start:end:step]"
   ]
  },
  {
   "cell_type": "code",
   "execution_count": 5,
   "metadata": {},
   "outputs": [],
   "source": [
    "import numpy as np\n"
   ]
  },
  {
   "cell_type": "code",
   "execution_count": 9,
   "metadata": {},
   "outputs": [
    {
     "data": {
      "text/plain": [
       "array([1, 2, 3, 4])"
      ]
     },
     "execution_count": 9,
     "metadata": {},
     "output_type": "execute_result"
    }
   ],
   "source": [
    "a1=np.array([1,2,3,4,5,6,7])\n",
    "a1[1:5] #[start:end]\n",
    "a1[4:]\n",
    "a1[:4]"
   ]
  },
  {
   "cell_type": "code",
   "execution_count": 17,
   "metadata": {},
   "outputs": [
    {
     "name": "stdout",
     "output_type": "stream",
     "text": [
      "[[ 1  2  3  4  5]\n",
      " [ 6  7  8  9 10]]\n"
     ]
    },
    {
     "data": {
      "text/plain": [
       "'\\na2[1, 1:4]:\\nRow: 1 (second row)\\nColumns: 1:4 (columns from index 1 to index 3)\\n\\na2[0:2, 2]:\\nRows: 0:2 (first and second rows)\\nColumn: 2 (third column)\\n'"
      ]
     },
     "execution_count": 17,
     "metadata": {},
     "output_type": "execute_result"
    }
   ],
   "source": [
    "a2=np.array([[1,2,3,4,5],[6,7,8,9,10]]) # slicing 2d array\n",
    "print(a2)\n",
    "a2[1,1:4] #[row:col]\n",
    "a2[0:2,2]\n",
    "\"\"\"\n",
    "a2[1, 1:4]:\n",
    "Row: 1 (second row)\n",
    "Columns: 1:4 (columns from index 1 to index 3)\n",
    "\n",
    "a2[0:2, 2]:\n",
    "Rows: 0:2 (first and second rows)\n",
    "Column: 2 (third column)\n",
    "\"\"\""
   ]
  },
  {
   "cell_type": "code",
   "execution_count": 20,
   "metadata": {},
   "outputs": [
    {
     "name": "stdout",
     "output_type": "stream",
     "text": [
      "[[2 3 4]\n",
      " [7 8 9]]\n"
     ]
    },
    {
     "data": {
      "text/plain": [
       "'\\na2[0:2, 1:4]:\\nRows: 0:2 (first and second rows)\\nColumn: 1:4 (column 1 to column 3)\\n'"
      ]
     },
     "execution_count": 20,
     "metadata": {},
     "output_type": "execute_result"
    }
   ],
   "source": [
    "print(a2[0:2,1:4])\n",
    "\"\"\"\n",
    "a2[0:2, 1:4]:\n",
    "Rows: 0:2 (first and second rows)\n",
    "Column: 1:4 (column 1 to column 3)\n",
    "\"\"\"\n"
   ]
  },
  {
   "cell_type": "code",
   "execution_count": 30,
   "metadata": {},
   "outputs": [
    {
     "data": {
      "text/plain": [
       "array([[[10, 11, 12],\n",
       "        [13, 14, 15]],\n",
       "\n",
       "       [[20, 21, 22],\n",
       "        [23, 24, 25]],\n",
       "\n",
       "       [[26, 27, 28],\n",
       "        [29, 30, 31]]])"
      ]
     },
     "execution_count": 30,
     "metadata": {},
     "output_type": "execute_result"
    }
   ],
   "source": [
    "a3 =np.array([[[10,11,12],[13,14,15]],  # slicing 3d array\n",
    "              [[20,21,22],[23,24,25]],\n",
    "              [[26,27,28],[29,30,31]]])\n",
    "a3\n"
   ]
  },
  {
   "cell_type": "code",
   "execution_count": 34,
   "metadata": {},
   "outputs": [],
   "source": [
    "#This array has a shape of (3, 2, 3):\n",
    "\n",
    "#Depth (first dimension): 3\n",
    "#Rows (second dimension): 2\n",
    "#Columns (third dimension): 3"
   ]
  },
  {
   "cell_type": "code",
   "execution_count": null,
   "metadata": {},
   "outputs": [],
   "source": [
    "\"\"\"\n",
    " Breaking Down the Slicing a3[:2, 1:, :2]\n",
    "Let's break down the slicing step by step:\n",
    "\n",
    "a3[:2, ...]:\n",
    "\n",
    ":2 selects slices from the start up to (but not including) index 2 along the first dimension (depth).\n",
    "This means you select the first 2 depth layers of the array. In this case, you get the first two 2D arrays:\n",
    "python\n",
    "Copy code\n",
    "[[[10, 11, 12],\n",
    "  [13, 14, 15]],\n",
    " \n",
    " [[20, 21, 22],\n",
    "  [23, 24, 25]]]\n",
    "a3[:2, 1:, ...]:\n",
    "\n",
    "1: selects rows starting from index 1 to the end along the second dimension (rows).\n",
    "This means you select only the rows from index 1 in each of the 2D slices (the second row). The result is:\n",
    "python\n",
    "Copy code\n",
    "[[13, 14, 15],\n",
    " [23, 24, 25]]\n",
    "a3[:2, 1:, :2]:\n",
    "\n",
    ":2 selects columns from index 0 to 1 along the third dimension (columns).\n",
    "This means you select only the first two columns. The result is:\n",
    "python\n",
    "Copy code\n",
    "[[13, 14],\n",
    " [23, 24]]\n",
    "Putting It All Together\n",
    "Combining all the slices, a3[:2, 1:, :2] selects:\n",
    "\n",
    "Depth layers: The first 2 depth layers of a3.\n",
    "Rows: The rows starting from index 1 to the end.\n",
    "Columns: The columns from index 0 to 1.\n",
    "\"\"\""
   ]
  },
  {
   "cell_type": "code",
   "execution_count": 35,
   "metadata": {},
   "outputs": [],
   "source": [
    "# VIEW VS COPY\n",
    "\n",
    "# copy is a new array, and the view is just a view of original array.\n",
    "# Any changes made to the copy will not affect original array\n",
    "# any changes made to the view will affect the original array "
   ]
  },
  {
   "cell_type": "code",
   "execution_count": 41,
   "metadata": {},
   "outputs": [
    {
     "name": "stdout",
     "output_type": "stream",
     "text": [
      "[1 2 3 4 5]\n",
      "[45  2  3  4  5]\n"
     ]
    }
   ],
   "source": [
    "arr=np.array([1,2,3,4,5])\n",
    "# copy method\n",
    "copy=arr.copy()\n",
    "copy[0]=45\n",
    "print(arr)\n",
    "print(copy)"
   ]
  },
  {
   "cell_type": "code",
   "execution_count": 45,
   "metadata": {},
   "outputs": [
    {
     "name": "stdout",
     "output_type": "stream",
     "text": [
      "[89  2  3  4  5]\n",
      "[89  2  3  4  5]\n"
     ]
    }
   ],
   "source": [
    "# VIEW METHOD\n",
    "view=arr.view()\n",
    "view[0]=89\n",
    "print(arr)\n"
   ]
  },
  {
   "cell_type": "code",
   "execution_count": null,
   "metadata": {},
   "outputs": [],
   "source": []
  }
 ],
 "metadata": {
  "kernelspec": {
   "display_name": "Python 3",
   "language": "python",
   "name": "python3"
  },
  "language_info": {
   "codemirror_mode": {
    "name": "ipython",
    "version": 3
   },
   "file_extension": ".py",
   "mimetype": "text/x-python",
   "name": "python",
   "nbconvert_exporter": "python",
   "pygments_lexer": "ipython3",
   "version": "3.11.3"
  }
 },
 "nbformat": 4,
 "nbformat_minor": 2
}
